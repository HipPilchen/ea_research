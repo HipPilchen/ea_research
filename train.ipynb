{
 "cells": [
  {
   "cell_type": "code",
   "execution_count": null,
   "metadata": {},
   "outputs": [],
   "source": [
    "! git clone https://github.com/lucasgascon/ea_research.git"
   ]
  },
  {
   "cell_type": "code",
   "execution_count": null,
   "metadata": {},
   "outputs": [],
   "source": [
    "from ea_research.segnet.keras_segmentation.models.segnet import resnet50_segnet"
   ]
  },
  {
   "cell_type": "code",
   "execution_count": null,
   "metadata": {},
   "outputs": [],
   "source": [
    "def train (model, n_classes, train_images, train_annotations, val_images, val_annotations,\n",
    "                                            name_dataset, name_model, batch_size = 2, epochs = 5):\n",
    "    model.train(\n",
    "        train_images =  train_images,\n",
    "        train_annotations = train_annotations,\n",
    "\n",
    "        val_images = val_images,\n",
    "        val_annotations = val_annotations,\n",
    "\n",
    "        batch_size = batch_size,\n",
    "        val_batch_size = batch_size,\n",
    "\n",
    "        steps_per_epoch= 20210 // batch_size,\n",
    "        val_steps_per_epoch= 2000 // batch_size,\n",
    "\n",
    "        checkpoints_path =  'tmp/' + name_dataset + '/' + name_model + '/', \n",
    "        epochs= epochs,\n",
    "\n",
    "        # do_augment=True, # enable augmentation \n",
    "        # custom_augmentation=custom_augmentation # sets the augmention function to use\n",
    "    )\n",
    "\n",
    "    model.save_weights(\"pretrained/\" + name_dataset + '/' + name_model + '_' + str(n_classes) + '/' )"
   ]
  },
  {
   "cell_type": "code",
   "execution_count": null,
   "metadata": {},
   "outputs": [],
   "source": [
    "n_classes = 200\n",
    "model = resnet50_segnet(n_classes=n_classes ,  input_height=416, input_width=608 ) \n",
    "\n",
    "train_images = 'datasets/ADEChallengeData2016/images/training/'\n",
    "train_annotations = 'datasets/ADEChallengeData2016/annotations/training/'\n",
    "val_images = 'datasets/ADEChallengeData2016/images/validation/'\n",
    "val_annotations = 'datasets/ADEChallengeData2016/images/validation/'\n",
    "\n",
    "\n",
    "name_dataset = 'adechallenge'\n",
    "name_model = 'resnet50_segnet'\n",
    "batch_size = 50\n",
    "epochs = 10"
   ]
  },
  {
   "cell_type": "code",
   "execution_count": null,
   "metadata": {},
   "outputs": [],
   "source": [
    "train (model, n_classes, train_images, train_annotations, val_images, val_annotations,\n",
    "                                            name_dataset, name_model, batch_size, epochs)"
   ]
  }
 ],
 "metadata": {
  "kernelspec": {
   "display_name": "Python 3.10.4 ('myenv')",
   "language": "python",
   "name": "python3"
  },
  "language_info": {
   "name": "python",
   "version": "3.10.4"
  },
  "orig_nbformat": 4,
  "vscode": {
   "interpreter": {
    "hash": "8a985d96491fd1b0055b920be02c7c6d0366fac89bb4f9fbf70bfe7a4b030506"
   }
  }
 },
 "nbformat": 4,
 "nbformat_minor": 2
}
