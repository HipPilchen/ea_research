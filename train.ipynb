{
 "cells": [
  {
   "cell_type": "code",
   "execution_count": null,
   "metadata": {},
   "outputs": [],
   "source": [
    "! git clone https://github.com/lucasgascon/ea_research.git"
   ]
  },
  {
   "cell_type": "code",
   "execution_count": null,
   "metadata": {},
   "outputs": [],
   "source": [
    "from segnet.train import train\n",
    "from keras_segmentation.models.segnet import resnet50_segnet"
   ]
  },
  {
   "cell_type": "code",
   "execution_count": null,
   "metadata": {},
   "outputs": [],
   "source": [
    "n_classes = 200\n",
    "model = resnet50_segnet(n_classes=n_classes ,  input_height=416, input_width=608 ) \n",
    "\n",
    "train_images = 'datasets/ADEChallengeData2016/images/training/'\n",
    "train_annotations = 'datasets/ADEChallengeData2016/annotations/training/'\n",
    "val_images = 'datasets/ADEChallengeData2016/images/validation/'\n",
    "val_annotations = 'datasets/ADEChallengeData2016/images/validation/'\n",
    "\n",
    "\n",
    "name_dataset = 'adechallenge'\n",
    "name_model = 'resnet50_segnet'\n",
    "batch_size = 50\n",
    "epochs = 10"
   ]
  }
 ],
 "metadata": {
  "kernelspec": {
   "display_name": "Python 3.10.4 ('myenv')",
   "language": "python",
   "name": "python3"
  },
  "language_info": {
   "name": "python",
   "version": "3.10.4"
  },
  "orig_nbformat": 4,
  "vscode": {
   "interpreter": {
    "hash": "8a985d96491fd1b0055b920be02c7c6d0366fac89bb4f9fbf70bfe7a4b030506"
   }
  }
 },
 "nbformat": 4,
 "nbformat_minor": 2
}
